{
 "cells": [
  {
   "cell_type": "markdown",
   "metadata": {},
   "source": [
    "# Nth Fibonacci number in O(1)"
   ]
  },
  {
   "cell_type": "code",
   "execution_count": 55,
   "metadata": {},
   "outputs": [
    {
     "name": "stdout",
     "output_type": "stream",
     "text": [
      "5\n",
      "5\n"
     ]
    }
   ],
   "source": [
    "import math\n",
    "N = int(input())\n",
    "phi = (1+math.sqrt(5))/2\n",
    "x = round(pow(phi,N)/math.sqrt(5))\n",
    "print(x)"
   ]
  },
  {
   "cell_type": "markdown",
   "metadata": {},
   "source": [
    "# No of digits in a number in O(1)"
   ]
  },
  {
   "cell_type": "code",
   "execution_count": 54,
   "metadata": {},
   "outputs": [
    {
     "name": "stdout",
     "output_type": "stream",
     "text": [
      "12345\n",
      "5\n"
     ]
    }
   ],
   "source": [
    "import math\n",
    "N = int(input())\n",
    "x = int(1+math.log(N,10))\n",
    "print(x)"
   ]
  },
  {
   "cell_type": "markdown",
   "metadata": {},
   "source": [
    "# Checking if given number is a fibonacci no or not"
   ]
  },
  {
   "cell_type": "code",
   "execution_count": 51,
   "metadata": {},
   "outputs": [
    {
     "name": "stdout",
     "output_type": "stream",
     "text": [
      "5\n",
      "Is a fibonacci no\n"
     ]
    }
   ],
   "source": [
    "# N is a fibonacci no if 5N^2-4 or 5N^2 +4 is a perfect square\n",
    "N = int(input())\n",
    "a = 5*(N**2)-4\n",
    "b = 5*(N**2)+4\n",
    "x = math.sqrt(a)\n",
    "y = math.sqrt(b)\n",
    "#print(x,y)\n",
    "# check if no is a square root or not\n",
    "if int(x+0.5)**2 == a or int(y+0.5)**2 == b:\n",
    "    print(\"Is a fibonacci no\")\n",
    "else:\n",
    "    print(\"Not a Fibonacci no\")"
   ]
  },
  {
   "cell_type": "markdown",
   "metadata": {},
   "source": [
    "# Sympy Module for Prime Number"
   ]
  },
  {
   "cell_type": "code",
   "execution_count": 58,
   "metadata": {},
   "outputs": [
    {
     "name": "stdout",
     "output_type": "stream",
     "text": [
      "True\n",
      "[2, 3, 5, 7]\n",
      "7\n",
      "3\n",
      "3\n"
     ]
    }
   ],
   "source": [
    "import sympy\n",
    "#Check if number is prime or not\n",
    "print(sympy.isprime(5))\n",
    "\n",
    "#Generate prime number between a,b \n",
    "x = list(sympy.primerange(1,10))\n",
    "print(x)\n",
    "#Generate next prime number to n\n",
    "print(sympy.nextprime(5))\n",
    "\n",
    "#Generate previous prime number to n\n",
    "print(sympy.prevprime(5))\n",
    "\n",
    "#Generate nth prime number\n",
    "print(sympy.prime(2))\n",
    "\n"
   ]
  },
  {
   "cell_type": "markdown",
   "metadata": {},
   "source": [
    "# Generate Prime Factor of a Number"
   ]
  },
  {
   "cell_type": "code",
   "execution_count": 62,
   "metadata": {},
   "outputs": [
    {
     "name": "stdout",
     "output_type": "stream",
     "text": [
      "100\n",
      "[2, 2, 5, 5]\n"
     ]
    }
   ],
   "source": [
    "import math\n",
    "def primefact(N):\n",
    "    arr = []\n",
    "    # all even prime factor counted \n",
    "    while N%2 == 0:\n",
    "        arr.append(2)\n",
    "        N /= 2\n",
    "\n",
    "    # for odd prime factor\n",
    "    # Every composite number has at least one prime factor less than or equal to square root of itself\n",
    "    # all remaining prime factor must be odd (difference of two prime factors must be at least 2)\n",
    "\n",
    "    for i in range(3,int(math.sqrt(N))+1,2):\n",
    "        while N%i == 0:\n",
    "            arr.append(i)\n",
    "            N /= i\n",
    "    if N>2:\n",
    "        arr.append(N)\n",
    "    print(arr)\n",
    "          \n",
    "n = int(input())\n",
    "primefact(n)\n",
    "\n",
    "    \n",
    "        \n",
    "        "
   ]
  },
  {
   "cell_type": "markdown",
   "metadata": {},
   "source": [
    "# Generate Divisors of a Number"
   ]
  },
  {
   "cell_type": "code",
   "execution_count": 80,
   "metadata": {},
   "outputs": [
    {
     "name": "stdout",
     "output_type": "stream",
     "text": [
      "[1, 2, 4, 5, 10]\n"
     ]
    }
   ],
   "source": [
    "import math \n",
    "\n",
    "def factor(n) : \n",
    "    arr = []\n",
    "    # Note that this loop runs till square root \n",
    "    i = 1\n",
    "    while i <= math.sqrt(n): \n",
    "        if (n % i == 0) : \n",
    "            # If divisors are equal, print only one \n",
    "            if (n / i == i) : \n",
    "                arr.append(i)\n",
    "\n",
    "            else : \n",
    "                arr.append(i)\n",
    "        i = i + 1\n",
    "    return arr\n",
    "lst = factor(100) \n",
    "print(lst)"
   ]
  },
  {
   "cell_type": "markdown",
   "metadata": {},
   "source": [
    "# GCD and LCM"
   ]
  },
  {
   "cell_type": "code",
   "execution_count": 79,
   "metadata": {},
   "outputs": [
    {
     "name": "stdout",
     "output_type": "stream",
     "text": [
      "2\n",
      "4.0\n"
     ]
    }
   ],
   "source": [
    "import math\n",
    "from functools import reduce\n",
    "lst = [2,4]\n",
    "def find_gcd(arr):\n",
    "    x = reduce(math.gcd, arr)\n",
    "    print(x)\n",
    "    return x\n",
    "def find_lcm(a,arr):\n",
    "    product = reduce((lambda x,y:x*y),arr)\n",
    "    lcm = (product)/a\n",
    "    print(lcm)\n",
    "q = find_gcd(lst)\n",
    "find_lcm(q,lst)"
   ]
  },
  {
   "cell_type": "code",
   "execution_count": null,
   "metadata": {},
   "outputs": [],
   "source": []
  }
 ],
 "metadata": {
  "kernelspec": {
   "display_name": "Python 3",
   "language": "python",
   "name": "python3"
  },
  "language_info": {
   "codemirror_mode": {
    "name": "ipython",
    "version": 3
   },
   "file_extension": ".py",
   "mimetype": "text/x-python",
   "name": "python",
   "nbconvert_exporter": "python",
   "pygments_lexer": "ipython3",
   "version": "3.7.1"
  }
 },
 "nbformat": 4,
 "nbformat_minor": 2
}
